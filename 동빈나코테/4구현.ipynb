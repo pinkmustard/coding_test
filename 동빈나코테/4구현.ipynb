{
 "cells": [
  {
   "cell_type": "markdown",
   "metadata": {},
   "source": [
    "### 4 구현"
   ]
  },
  {
   "cell_type": "markdown",
   "metadata": {},
   "source": [
    "### 1. 상하좌우"
   ]
  },
  {
   "cell_type": "code",
   "execution_count": 5,
   "metadata": {},
   "outputs": [
    {
     "name": "stdout",
     "output_type": "stream",
     "text": [
      "(3, 4)\n"
     ]
    }
   ],
   "source": [
    "# L:왼쪽, R: 오른쪽, U 위, D: 아래\n",
    "def solution(n, move):\n",
    "    answer = [1, 1]\n",
    "    for i in move:\n",
    "        if i == 'L':\n",
    "            if answer[1] >= 2:\n",
    "                answer[1] -= 1\n",
    "            else:\n",
    "                pass\n",
    "        elif i == 'R':\n",
    "            if answer[1] <= n-1:\n",
    "                answer[1] += 1\n",
    "            else:\n",
    "                pass\n",
    "        elif i == 'U':\n",
    "            if answer[0] >= 2:\n",
    "                answer[0] -= 1\n",
    "            else:\n",
    "                pass\n",
    "        elif i == 'D':\n",
    "            if answer[0] <= n-1:\n",
    "                answer[0] += 1\n",
    "            else:\n",
    "                pass\n",
    "        \n",
    "    return answer\n",
    "\n",
    "n = int(input())\n",
    "move = list(input().split())\n",
    "print(solution(n, move))\n"
   ]
  },
  {
   "cell_type": "markdown",
   "metadata": {},
   "source": [
    "### 2. 시각"
   ]
  },
  {
   "cell_type": "code",
   "execution_count": 12,
   "metadata": {},
   "outputs": [
    {
     "name": "stdout",
     "output_type": "stream",
     "text": [
      "11475\n"
     ]
    }
   ],
   "source": [
    "def solution(n):        \n",
    "    answer = 0\n",
    "    for x in range(n+1):\n",
    "        for y in range(60):\n",
    "            for z in range(60):\n",
    "                if str(n) in str(x) + str(y) + str(z):\n",
    "                    answer += 1\n",
    "    return answer\n",
    "n = int(input())\n",
    "print(solution(n))"
   ]
  },
  {
   "cell_type": "markdown",
   "metadata": {},
   "source": [
    "### 3. 왕실의 나이트"
   ]
  },
  {
   "cell_type": "code",
   "execution_count": 22,
   "metadata": {},
   "outputs": [
    {
     "name": "stdout",
     "output_type": "stream",
     "text": [
      "0\n"
     ]
    }
   ],
   "source": [
    "def solution(c):\n",
    "    answer = 0\n",
    "    move = [[-2, 1], [2, 1], [-2, -1], [2, -1], [1, 2], [1, -2], [-1, 2], [-1, -2]]\n",
    "    x = ord(c[0]) - 96\n",
    "    y = int(c[1])\n",
    "    for i in range(8):\n",
    "        dx = x + move[i][0]\n",
    "        dy = y + move[i][1]\n",
    "        if dx > 0 and dx <= 8 and dy > 0 and dy <= 8:\n",
    "            answer += 1\n",
    "    return answer\n",
    "\n",
    "c = input()\n",
    "print(solution(c))"
   ]
  },
  {
   "cell_type": "markdown",
   "metadata": {},
   "source": [
    "### 4. 게임 개발"
   ]
  },
  {
   "cell_type": "code",
   "execution_count": 2,
   "metadata": {},
   "outputs": [
    {
     "name": "stdout",
     "output_type": "stream",
     "text": [
      "3\n"
     ]
    }
   ],
   "source": [
    "n, m= map(int, input().split())\n",
    "\n",
    "d = [[0]*m for _ in range(n)]\n",
    "x, y, direction = map(int, input().split())\n",
    "d[x][y] = 1\n",
    "\n",
    "maps = []\n",
    "for i in range(n):\n",
    "    temp = list(map(int, input().split()))\n",
    "    maps.append(temp)\n",
    "\n",
    "\n",
    "dx = [-1, 0, 1, 0]\n",
    "dy = [0, 1, 0, -1]\n",
    "\n",
    "def turn_left():\n",
    "    global direction\n",
    "    direction -= 1\n",
    "    if direction == -1:\n",
    "        direction = 3\n",
    "\n",
    "count = 1\n",
    "turn_time=0\n",
    "while True:\n",
    "    turn_left()\n",
    "    nx = x + dx[direction]\n",
    "    ny = y + dy[direction]\n",
    "    if d[nx][ny] == 0 and maps[nx][ny] == 0:\n",
    "        d[nx][ny] = 1\n",
    "        x = nx\n",
    "        y = ny\n",
    "        count += 1\n",
    "        turn_time = 0\n",
    "        continue\n",
    "    else:\n",
    "        turn_time += 1\n",
    "    if turn_time == 4:\n",
    "        nx = x - dx[direction]\n",
    "        ny = y - dy[direction]\n",
    "        if maps[nx][ny] == 0:\n",
    "            x = nx\n",
    "            y = ny\n",
    "        else:\n",
    "            break\n",
    "        turn_time = 0\n",
    "print(count)"
   ]
  },
  {
   "cell_type": "code",
   "execution_count": null,
   "metadata": {},
   "outputs": [],
   "source": []
  }
 ],
 "metadata": {
  "kernelspec": {
   "display_name": "deeplearn",
   "language": "python",
   "name": "python3"
  },
  "language_info": {
   "codemirror_mode": {
    "name": "ipython",
    "version": 3
   },
   "file_extension": ".py",
   "mimetype": "text/x-python",
   "name": "python",
   "nbconvert_exporter": "python",
   "pygments_lexer": "ipython3",
   "version": "3.8.18"
  }
 },
 "nbformat": 4,
 "nbformat_minor": 2
}
