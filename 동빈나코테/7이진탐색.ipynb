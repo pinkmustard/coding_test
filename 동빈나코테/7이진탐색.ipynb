{
 "cells": [
  {
   "cell_type": "code",
   "execution_count": 6,
   "metadata": {},
   "outputs": [
    {
     "name": "stdout",
     "output_type": "stream",
     "text": [
      "3\n"
     ]
    }
   ],
   "source": [
    "def b_s(arr, find, start, end):\n",
    "    mid = (start + end) //2\n",
    "    if start > end:\n",
    "        return -1\n",
    "    if find < arr[mid]:\n",
    "        return b_s(arr, find, start, mid-1)\n",
    "    elif find == arr[mid]:\n",
    "        return mid\n",
    "    else:\n",
    "        return b_s(arr, find, mid+1, end)\n",
    "arr = [1,2,3,4,5,6,7,8,9,10]\n",
    "find = 4\n",
    "print(b_s(arr, find, 0, 9))\n",
    "    "
   ]
  },
  {
   "cell_type": "markdown",
   "metadata": {},
   "source": [
    "### 문제 1. 부품 찾기"
   ]
  },
  {
   "cell_type": "code",
   "execution_count": 9,
   "metadata": {},
   "outputs": [
    {
     "name": "stdout",
     "output_type": "stream",
     "text": [
      "no yes yes "
     ]
    }
   ],
   "source": [
    "n = int(input())\n",
    "x = list(map(int, input().split()))\n",
    "m = int(input())\n",
    "y = list(map(int, input().split()))\n",
    "\n",
    "def b_s(arr, find, start, end):\n",
    "    if start > end:\n",
    "        return 'no'\n",
    "    mid = (start + end)//2\n",
    "    if find < arr[mid]:\n",
    "        return b_s(arr, find, start, mid-1)\n",
    "    elif find == arr[mid]:\n",
    "        return 'yes'\n",
    "    else:\n",
    "        return b_s(arr, find, mid+1, end)\n",
    "\n",
    "for i in y:\n",
    "    print(b_s(x, i, 0, n-1), end=' ')"
   ]
  },
  {
   "cell_type": "markdown",
   "metadata": {},
   "source": [
    "### 문제 2. 떡볶이 떡 만들기"
   ]
  },
  {
   "cell_type": "code",
   "execution_count": 8,
   "metadata": {},
   "outputs": [
    {
     "name": "stdout",
     "output_type": "stream",
     "text": [
      "15\n"
     ]
    }
   ],
   "source": [
    "n, m = map(int, input().split())\n",
    "dduck = list(map(int, input().split()))\n",
    "max_dduck = max(dduck)\n",
    "for i in range(max_dduck, 0, -1):\n",
    "    total = 0\n",
    "    for j in range(n):\n",
    "        if dduck[j] - i > 0:\n",
    "            total += dduck[j] - i\n",
    "    if total == m:\n",
    "        print(i)\n",
    "        break"
   ]
  }
 ],
 "metadata": {
  "kernelspec": {
   "display_name": "deeplearn",
   "language": "python",
   "name": "python3"
  },
  "language_info": {
   "codemirror_mode": {
    "name": "ipython",
    "version": 3
   },
   "file_extension": ".py",
   "mimetype": "text/x-python",
   "name": "python",
   "nbconvert_exporter": "python",
   "pygments_lexer": "ipython3",
   "version": "3.8.18"
  }
 },
 "nbformat": 4,
 "nbformat_minor": 2
}
