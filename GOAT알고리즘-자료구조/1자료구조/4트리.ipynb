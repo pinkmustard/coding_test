{
 "cells": [
  {
   "cell_type": "code",
   "execution_count": 1,
   "metadata": {},
   "outputs": [],
   "source": [
    "class BTNode:\n",
    "    def __init__(self, elem, left=None, rigth=None):\n",
    "        self.data = elem\n",
    "        self.left = left\n",
    "        self.rigth = rigth\n",
    "        \n",
    "def preorder(n):\n",
    "    if n is not None:\n",
    "        print(n.data, end=' ')\n",
    "        preorder(n.left)\n",
    "        preorder(n.rigth)\n",
    "\n",
    "def inorder(n):\n",
    "    if n is not None:\n",
    "        inorder(n.left)\n",
    "        print(n.data, end=' ')\n",
    "        inorder(n.rigth)\n",
    "\n",
    "def postorder(n):\n",
    "    if n is not None:\n",
    "        postorder(n.left)\n",
    "        postorder(n.right)\n",
    "        print(n.data, end=' ')"
   ]
  },
  {
   "cell_type": "code",
   "execution_count": 2,
   "metadata": {},
   "outputs": [],
   "source": [
    "# 이진 트리의 노드 수 구하기\n",
    "## 좌측트리 + 우측트리 + 1(루트 노드)\n",
    "\n",
    "def count_node(n):\n",
    "    if n is None:\n",
    "        return 0\n",
    "    else:\n",
    "        return count_node(n.left) + count_node(n.right) + 1\n",
    "    \n",
    "# 이진 트리의 높이 구하기\n",
    "## max(좌측 트리, 우측 트리) + 1(루트노드)\n",
    "def calc_height(n):\n",
    "    if n is None:\n",
    "        return 0\n",
    "    hLeft = calc_height(n.left)\n",
    "    hRight = calc_height(n.right)\n",
    "    if (hLeft > hRight):\n",
    "        return hLeft + 1\n",
    "    else: return hRight + 1"
   ]
  }
 ],
 "metadata": {
  "kernelspec": {
   "display_name": "deeplearn",
   "language": "python",
   "name": "python3"
  },
  "language_info": {
   "codemirror_mode": {
    "name": "ipython",
    "version": 3
   },
   "file_extension": ".py",
   "mimetype": "text/x-python",
   "name": "python",
   "nbconvert_exporter": "python",
   "pygments_lexer": "ipython3",
   "version": "3.8.18"
  }
 },
 "nbformat": 4,
 "nbformat_minor": 2
}
