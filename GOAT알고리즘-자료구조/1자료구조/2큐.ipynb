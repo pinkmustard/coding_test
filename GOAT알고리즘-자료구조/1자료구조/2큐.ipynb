{
 "cells": [
  {
   "cell_type": "code",
   "execution_count": 3,
   "metadata": {},
   "outputs": [],
   "source": [
    "class ArrayQueue:\n",
    "    def __init__(self, capacity = 10):\n",
    "        self.capacity = capacity\n",
    "        self.array = [None] * capacity\n",
    "        self.front = 0\n",
    "        self.rear = 0\n",
    "    \n",
    "    def isEmpty(self):\n",
    "        return self.front == self.rear\n",
    "    \n",
    "    def isFull(self):\n",
    "        return self.front == (self.rear+1) % self.capacity\n",
    "    \n",
    "    def enqueue(self, item):\n",
    "        if not self.isFull():\n",
    "            self.rear = (self.rear+1) % self.capacity\n",
    "            self.array[self.rear] = item\n",
    "        else: pass\n",
    "    \n",
    "    def dequeue(self):\n",
    "        if not self.isEmpty():\n",
    "            self.front = (self.front + 1) % self.capacity\n",
    "            return self.array[self.front]\n",
    "        else: pass\n",
    "        \n",
    "    def peek(self):\n",
    "        if not self.isEmpty():\n",
    "            return self.array[(self.front + 1) % self.capacity]\n",
    "        else: pass\n",
    "    \n",
    "    def size(self):\n",
    "        return (self.rear - self.front + self.capacity) % self.capacity\n",
    "    \n",
    "    def display(self, msg):\n",
    "        print(msg, end='=[')\n",
    "        for i in range(self.front+1, self.front+1+self.size()):\n",
    "            print(self.array[i%self.capacity], end=' ')\n",
    "        print(']')\n",
    "    \n",
    "    def enqueue2(self, item):\n",
    "        self.rear = (self.rear + 1) % self.capacity\n",
    "        self.array[self.rear] = item\n",
    "        if self.isEmpty():\n",
    "            self.front = (self.front + 1) % self.capacity"
   ]
  },
  {
   "cell_type": "code",
   "execution_count": 2,
   "metadata": {},
   "outputs": [
    {
     "name": "stdout",
     "output_type": "stream",
     "text": [
      "초기상태=[]\n",
      "포화상태=[59 2 48 67 19 16 3 ]\n",
      "삭제 순서: 59 2 48 67 19 16 3 \n"
     ]
    }
   ],
   "source": [
    "import random\n",
    "\n",
    "q = ArrayQueue(8)\n",
    "q.display('초기상태')\n",
    "while not q.isFull():\n",
    "    q.enqueue(random.randint(0, 100))\n",
    "q.display('포화상태')\n",
    "\n",
    "print('삭제 순서: ', end='')\n",
    "while not q.isEmpty():\n",
    "    print(q.dequeue(), end= ' ')\n",
    "print()"
   ]
  },
  {
   "cell_type": "code",
   "execution_count": 4,
   "metadata": {},
   "outputs": [
    {
     "name": "stdout",
     "output_type": "stream",
     "text": [
      "초기 상태=[]\n",
      "삽입 0-5=[0 1 2 3 4 5 ]\n",
      "삽입 6, 7=[1 2 3 4 5 6 7 ]\n",
      "삽입 8, 9=[3 4 5 6 7 8 9 ]\n",
      "삭제*2=[5 6 7 8 9 ]\n"
     ]
    }
   ],
   "source": [
    "q = ArrayQueue(8)\n",
    "q.display('초기 상태')\n",
    "for i in range(6):\n",
    "    q.enqueue2(i)\n",
    "q.display('삽입 0-5')\n",
    "q.enqueue2(6); q.enqueue2(7)\n",
    "q.display('삽입 6, 7')\n",
    "q.enqueue2(8); q.enqueue2(9)\n",
    "q.display('삽입 8, 9')\n",
    "\n",
    "q.dequeue(); q.dequeue()\n",
    "q.display('삭제*2')"
   ]
  },
  {
   "cell_type": "markdown",
   "metadata": {},
   "source": [
    "### 덱(deque)"
   ]
  },
  {
   "cell_type": "code",
   "execution_count": 5,
   "metadata": {},
   "outputs": [],
   "source": [
    "class CircularDeque(ArrayQueue):\n",
    "    def __init__(self, capacity=10):\n",
    "        super().__init__(capacity)\n",
    "    \n",
    "    def addRear(self, item): self.enqueue(item)\n",
    "    def deleteFront(self): return self.dequeue()\n",
    "    def getFront(self): return self.peek()\n",
    "    \n",
    "    def addFront(self, item):\n",
    "        if not self.isFull():\n",
    "            self.array[self.front] = item\n",
    "            self.front = (self.front-1+self.capacity) % self.capacity\n",
    "        else: pass\n",
    "    \n",
    "    def deleteRear(self):\n",
    "        if not self.isEmpty():\n",
    "            item = self.array[self.rear]\n",
    "            self.rear = (self.rear-1+self.capacity) % self.capacity\n",
    "            return item\n",
    "        else: pass\n",
    "    \n",
    "    def getRear(self):\n",
    "        if not self.isEmpty():\n",
    "            return self.array[self.rear]\n",
    "        else: pass"
   ]
  },
  {
   "cell_type": "code",
   "execution_count": 6,
   "metadata": {},
   "outputs": [
    {
     "name": "stdout",
     "output_type": "stream",
     "text": [
      "홀수 전단 짝수 후단=[7 5 3 1 0 2 4 6 8 ]\n",
      "전단 2번 삭제 후단 3번 삭제=[3 1 0 2 ]\n",
      "전단 9-13 삽입=[13 12 11 10 9 3 1 0 2 ]\n"
     ]
    }
   ],
   "source": [
    "dq = CircularDeque()\n",
    "for i in range(9):\n",
    "    if i%2 == 0: dq.addRear(i)\n",
    "    else: dq.addFront(i)\n",
    "dq.display('홀수 전단 짝수 후단')\n",
    "for i in range(2): dq.deleteFront()\n",
    "for i in range(3): dq.deleteRear()\n",
    "dq.display('전단 2번 삭제 후단 3번 삭제')\n",
    "for i in range(9, 14): dq.addFront(i)\n",
    "dq.display('전단 9-13 삽입')"
   ]
  },
  {
   "cell_type": "markdown",
   "metadata": {},
   "source": [
    "### 라이브러리 사용 큐 덱 구현"
   ]
  },
  {
   "cell_type": "code",
   "execution_count": 8,
   "metadata": {},
   "outputs": [
    {
     "name": "stdout",
     "output_type": "stream",
     "text": [
      "삽입 순서:20 86 8 81 62 88 15 56 \n",
      "삭제 순서:20 86 8 81 62 88 15 56 \n"
     ]
    }
   ],
   "source": [
    "import queue\n",
    "import random\n",
    "q = queue.Queue(8)\n",
    "\n",
    "print('삽입 순서:', end='')\n",
    "\n",
    "while not q.full():\n",
    "    v = random.randint(0, 100)\n",
    "    q.put(v)\n",
    "    print(v, end=' ')\n",
    "print()\n",
    "\n",
    "print('삭제 순서:', end='')\n",
    "while not q.empty():\n",
    "    print(q.get(), end= ' ')\n",
    "print()"
   ]
  },
  {
   "cell_type": "code",
   "execution_count": 11,
   "metadata": {},
   "outputs": [
    {
     "name": "stdout",
     "output_type": "stream",
     "text": [
      "덱은 공백\n",
      "홀수는 전단 짝수는 후단 삽입 [7, 5, 3, 1, 0, 2, 4, 6, 8]\n",
      "전단 삭제 2번, 후단 삭제 3번 [2, 4, 6, 8]\n",
      "전단에 9 - 13 삽입 [13, 12, 11, 10, 9, 2, 4, 6, 8]\n",
      "덱은 공백 아님\n"
     ]
    }
   ],
   "source": [
    "from collections import deque\n",
    "\n",
    "dq = deque()\n",
    "\n",
    "print('덱은 공백 아님' if dq else '덱은 공백')\n",
    "for i in range(9):\n",
    "    if i%2==0: dq.append(i)\n",
    "    else: dq.appendleft(i)\n",
    "print('홀수는 전단 짝수는 후단 삽입', list(dq))\n",
    "\n",
    "for i in range(2): dq.popleft()\n",
    "for i in range(3): dq.popleft()\n",
    "print('전단 삭제 2번, 후단 삭제 3번', list(dq))\n",
    "\n",
    "for i in range(9, 14): dq.appendleft(i)\n",
    "print('전단에 9 - 13 삽입', list(dq))\n",
    "print('덱은 공백 아님' if dq else '덱은 공백')"
   ]
  },
  {
   "cell_type": "code",
   "execution_count": null,
   "metadata": {},
   "outputs": [],
   "source": []
  }
 ],
 "metadata": {
  "kernelspec": {
   "display_name": "deeplearn",
   "language": "python",
   "name": "python3"
  },
  "language_info": {
   "codemirror_mode": {
    "name": "ipython",
    "version": 3
   },
   "file_extension": ".py",
   "mimetype": "text/x-python",
   "name": "python",
   "nbconvert_exporter": "python",
   "pygments_lexer": "ipython3",
   "version": "3.8.18"
  }
 },
 "nbformat": 4,
 "nbformat_minor": 2
}
