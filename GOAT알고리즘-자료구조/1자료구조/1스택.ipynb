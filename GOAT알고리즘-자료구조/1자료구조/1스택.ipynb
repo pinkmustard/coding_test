{
 "cells": [
  {
   "cell_type": "code",
   "execution_count": 1,
   "metadata": {},
   "outputs": [],
   "source": [
    "# 스택의 연산\n",
    "capacity = 10\n",
    "arr = [None]*capacity\n",
    "top = -1"
   ]
  },
  {
   "cell_type": "code",
   "execution_count": 3,
   "metadata": {},
   "outputs": [],
   "source": [
    "def isEmpty():\n",
    "    if top == -1 : return True\n",
    "    else: return False\n",
    "def isFull():\n",
    "    return top == capacity - 1    "
   ]
  },
  {
   "cell_type": "code",
   "execution_count": 4,
   "metadata": {},
   "outputs": [],
   "source": [
    "def push(e):\n",
    "    if not isFull():\n",
    "        top += 1\n",
    "        arr[top] = e\n",
    "    else:\n",
    "        print('오버플로우')\n",
    "        exit()"
   ]
  },
  {
   "cell_type": "code",
   "execution_count": 5,
   "metadata": {},
   "outputs": [],
   "source": [
    "def pop():\n",
    "    if not isEmpty():\n",
    "        top -= 1\n",
    "        return arr[top+1]\n",
    "    else:\n",
    "        print('언더플로우')\n",
    "        exit()"
   ]
  },
  {
   "cell_type": "code",
   "execution_count": null,
   "metadata": {},
   "outputs": [],
   "source": [
    "def peek():\n",
    "    if not isEmpty():\n",
    "        return arr[top]\n",
    "    else:\n",
    "        pass"
   ]
  },
  {
   "cell_type": "code",
   "execution_count": 4,
   "metadata": {},
   "outputs": [],
   "source": [
    "class ArrayStack:\n",
    "    def __init__(self, capacity):\n",
    "        self.capacity = capacity\n",
    "        self.arr = [None] * self.capacity\n",
    "        self.top = -1\n",
    "    def isEmpty(self): return self.top == -1\n",
    "    def isFull(self): return self.top == self.capacity - 1\n",
    "    def push(self, item):\n",
    "        if not self.isFull():\n",
    "            self.top += 1\n",
    "            self.arr[self.top] = item\n",
    "        else:\n",
    "            print('오버플로우')\n",
    "            exit()\n",
    "    def pop(self):\n",
    "        if not self.isEmpty():\n",
    "            self.top -= 1\n",
    "            return self.arr[self.top+1]\n",
    "        else:\n",
    "            print('언더플로우')\n",
    "            exit()\n",
    "    def peek(self):\n",
    "        if not self.isEmpty():\n",
    "            return self.arr[self.top]\n",
    "        else:\n",
    "            pass\n",
    "    def size():\n",
    "        return top+1"
   ]
  },
  {
   "cell_type": "code",
   "execution_count": 11,
   "metadata": {},
   "outputs": [
    {
     "name": "stdout",
     "output_type": "stream",
     "text": [
      "문자열 출력:.다니습갑반 .요세하녕안\n"
     ]
    }
   ],
   "source": [
    "s = ArrayStack(100)\n",
    "msg = input()\n",
    "for c in msg:\n",
    "    s.push(c)\n",
    "print('문자열 출력:', end='')\n",
    "while not s.isEmpty():\n",
    "    print(s.pop(), end='')\n",
    "print()"
   ]
  },
  {
   "cell_type": "code",
   "execution_count": 5,
   "metadata": {},
   "outputs": [],
   "source": [
    "# 괄호 검사 프로그램\n",
    "def checkBar(statement):\n",
    "    stack = ArrayStack(100)\n",
    "    for ch in statement:\n",
    "        if ch in ('{', '[', '('):\n",
    "            stack.push(ch)\n",
    "        elif ch in ('}', ']', ')'):\n",
    "            if stack.isEmpty():\n",
    "                return False\n",
    "            else:\n",
    "                left = stack.pop()\n",
    "                if (ch == '}' and left != '{') or (ch == ']' and left != '[') or (ch == ')' and left != '('):\n",
    "                    return False\n",
    "    return stack.isEmpty()"
   ]
  },
  {
   "cell_type": "code",
   "execution_count": 6,
   "metadata": {},
   "outputs": [
    {
     "name": "stdout",
     "output_type": "stream",
     "text": [
      "False\n"
     ]
    }
   ],
   "source": [
    "print(checkBar('if((x<0) && (y<3)'))"
   ]
  },
  {
   "cell_type": "code",
   "execution_count": 7,
   "metadata": {},
   "outputs": [
    {
     "name": "stdout",
     "output_type": "stream",
     "text": [
      "문자열 출력.요세하녕안\n"
     ]
    }
   ],
   "source": [
    "# 리스트 이용\n",
    "s = list()\n",
    "msg = input()\n",
    "for c in msg:\n",
    "    s.append(c)\n",
    "print('문자열 출력', end='')\n",
    "while len(s) > 0:\n",
    "    print(s.pop(), end='')\n",
    "print()"
   ]
  },
  {
   "cell_type": "code",
   "execution_count": 8,
   "metadata": {},
   "outputs": [
    {
     "name": "stdout",
     "output_type": "stream",
     "text": [
      "문자열 출력: .요세하녕안\n"
     ]
    }
   ],
   "source": [
    "# queue 라이브러리 이용\n",
    "import queue\n",
    "\n",
    "s = queue.LifoQueue(maxsize=20) # maxsize가 0이면 무한대\n",
    "msg = input()\n",
    "for c in msg:\n",
    "    s.put(c)\n",
    "\n",
    "print('문자열 출력: ',end='')\n",
    "while not s.empty():\n",
    "    print(s.get(), end='')\n",
    "print()"
   ]
  },
  {
   "cell_type": "code",
   "execution_count": 24,
   "metadata": {},
   "outputs": [
    {
     "name": "stdout",
     "output_type": "stream",
     "text": [
      "3628800\n"
     ]
    }
   ],
   "source": [
    "# 팩토리얼 재귀구조\n",
    "def factorial(n):\n",
    "    if n == 0 or n == 1:\n",
    "        return 1\n",
    "    else:\n",
    "        return n * factorial(n-1)\n",
    "print(factorial(10))"
   ]
  },
  {
   "cell_type": "code",
   "execution_count": 25,
   "metadata": {},
   "outputs": [
    {
     "name": "stdout",
     "output_type": "stream",
     "text": [
      "3628800\n",
      "[1, 1, 2, 6, 24, 120, 720, 5040, 40320, 362880, 3628800]\n"
     ]
    }
   ],
   "source": [
    "# 팩토리얼 반복구조\n",
    "a = [1, 1]\n",
    "n = 10\n",
    "for i in range(2, n+1):\n",
    "    a.append(a[i-1]*i)\n",
    "print(a[n])\n",
    "print(a)"
   ]
  },
  {
   "cell_type": "code",
   "execution_count": 12,
   "metadata": {},
   "outputs": [
    {
     "name": "stdout",
     "output_type": "stream",
     "text": [
      "원판 1: A --> B\n",
      "원판 2: A --> C\n",
      "원판 1: B --> C\n",
      "원판 3: A --> B\n",
      "원판 1: C --> A\n",
      "원판 2: C --> B\n",
      "원판 1: A --> B\n",
      "원판 4: A --> C\n",
      "원판 1: B --> C\n",
      "원판 2: B --> A\n",
      "원판 1: C --> A\n",
      "원판 3: B --> C\n",
      "원판 1: A --> B\n",
      "원판 2: A --> C\n",
      "원판 1: B --> C\n"
     ]
    }
   ],
   "source": [
    "# 하노이탑\n",
    "def hanoi_tower(n, fr, tmp, to): # 원판의 수, 시작막대, 임시막대, 목표막대\n",
    "    if (n==1):\n",
    "        print('원판 1: %s --> %s' %(fr, to))\n",
    "    else:\n",
    "        hanoi_tower(n-1, fr, to, tmp)\n",
    "        print('원판 %d: %s --> %s' %(n, fr, to))\n",
    "        hanoi_tower(n - 1, tmp, fr, to)\n",
    "hanoi_tower(4, 'A', 'B', 'C')"
   ]
  },
  {
   "cell_type": "code",
   "execution_count": null,
   "metadata": {},
   "outputs": [],
   "source": []
  }
 ],
 "metadata": {
  "kernelspec": {
   "display_name": "deeplearn",
   "language": "python",
   "name": "python3"
  },
  "language_info": {
   "codemirror_mode": {
    "name": "ipython",
    "version": 3
   },
   "file_extension": ".py",
   "mimetype": "text/x-python",
   "name": "python",
   "nbconvert_exporter": "python",
   "pygments_lexer": "ipython3",
   "version": "3.8.18"
  }
 },
 "nbformat": 4,
 "nbformat_minor": 2
}
