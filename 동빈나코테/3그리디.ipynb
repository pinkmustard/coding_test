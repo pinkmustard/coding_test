{
 "cells": [
  {
   "cell_type": "markdown",
   "metadata": {},
   "source": [
    "### 그리디"
   ]
  },
  {
   "cell_type": "markdown",
   "metadata": {},
   "source": [
    "### 1. 거스름돈"
   ]
  },
  {
   "cell_type": "code",
   "execution_count": 1,
   "metadata": {},
   "outputs": [
    {
     "name": "stdout",
     "output_type": "stream",
     "text": [
      "6\n"
     ]
    }
   ],
   "source": [
    "n = 1260\n",
    "coin = [500, 100, 50, 10]\n",
    "count = 0\n",
    "\n",
    "for i in range(4):\n",
    "    count += n // coin[i]\n",
    "    n = n % coin[i]\n",
    "print(count)"
   ]
  },
  {
   "cell_type": "markdown",
   "metadata": {},
   "source": [
    "### 2. 큰 수의 법칙"
   ]
  },
  {
   "cell_type": "code",
   "execution_count": 8,
   "metadata": {},
   "outputs": [
    {
     "name": "stdout",
     "output_type": "stream",
     "text": [
      "46\n"
     ]
    }
   ],
   "source": [
    "def solution(n, m, k, num):\n",
    "    answer = 0\n",
    "    num.sort()\n",
    "    max1 = num.pop()\n",
    "    max2 = num.pop()\n",
    "    for i in range(m):\n",
    "        if i % (k+1) == k:\n",
    "            answer += max2\n",
    "        else:\n",
    "            answer += max1\n",
    "    return answer\n",
    "\n",
    "n, m, k = map(int, input().split())\n",
    "num = list(map(int, input().split()))\n",
    "print(solution(n,m,k,num))"
   ]
  },
  {
   "cell_type": "markdown",
   "metadata": {},
   "source": [
    "### 3. 숫자 카드 게임"
   ]
  },
  {
   "cell_type": "code",
   "execution_count": 10,
   "metadata": {},
   "outputs": [
    {
     "name": "stdout",
     "output_type": "stream",
     "text": [
      "3\n"
     ]
    }
   ],
   "source": [
    "n, m = map(int, input().split())\n",
    "min_list=[]\n",
    "for i in range(n):\n",
    "    temp = list(map(int, input().split()))\n",
    "    min_list.append(min(temp))\n",
    "print(max(min_list))"
   ]
  },
  {
   "cell_type": "markdown",
   "metadata": {},
   "source": [
    "### 4. 1이 될 때까지"
   ]
  },
  {
   "cell_type": "code",
   "execution_count": 12,
   "metadata": {},
   "outputs": [
    {
     "name": "stdout",
     "output_type": "stream",
     "text": [
      "3\n"
     ]
    }
   ],
   "source": [
    "def solution(n, k):\n",
    "    count = 0\n",
    "    while(n>1):\n",
    "        if n % k != 0:\n",
    "            n -= 1\n",
    "            count += 1\n",
    "        else:\n",
    "            n /= k\n",
    "            count += 1\n",
    "    return count\n",
    "n, k = map(int, input().split())\n",
    "print(solution(n, k))"
   ]
  }
 ],
 "metadata": {
  "kernelspec": {
   "display_name": "deeplearn",
   "language": "python",
   "name": "python3"
  },
  "language_info": {
   "codemirror_mode": {
    "name": "ipython",
    "version": 3
   },
   "file_extension": ".py",
   "mimetype": "text/x-python",
   "name": "python",
   "nbconvert_exporter": "python",
   "pygments_lexer": "ipython3",
   "version": "3.8.18"
  }
 },
 "nbformat": 4,
 "nbformat_minor": 2
}
