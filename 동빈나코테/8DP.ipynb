{
 "cells": [
  {
   "cell_type": "markdown",
   "metadata": {},
   "source": [
    "### 1. 피보나치 수열"
   ]
  },
  {
   "cell_type": "code",
   "execution_count": 3,
   "metadata": {},
   "outputs": [
    {
     "name": "stdout",
     "output_type": "stream",
     "text": [
      "233\n"
     ]
    }
   ],
   "source": [
    "n = int(input())\n",
    "a = [0, 1]\n",
    "for i in range(2,n+1):\n",
    "    a.append(a[i-1] + a[i-2])\n",
    "print(a[n])"
   ]
  },
  {
   "cell_type": "markdown",
   "metadata": {},
   "source": [
    "### 문제 1. 1로 만들기"
   ]
  },
  {
   "cell_type": "code",
   "execution_count": 9,
   "metadata": {},
   "outputs": [
    {
     "name": "stdout",
     "output_type": "stream",
     "text": [
      "3\n"
     ]
    }
   ],
   "source": [
    "n = int(input())\n",
    "d = [0] * 30001\n",
    "for i in range(2, n+1):\n",
    "    d[i] = d[i-1] + 1\n",
    "    if i%2==0:\n",
    "        d[i] = min(d[i], d[i//2]+1)\n",
    "    if i%3==0:\n",
    "        d[i] = min(d[i], d[i//3]+1)\n",
    "    if i%5==0:\n",
    "        d[i] = min(d[i], d[i//5]+1)\n",
    "print(d[n])"
   ]
  },
  {
   "cell_type": "markdown",
   "metadata": {},
   "source": [
    "### 문제 2. 개미 전사\n",
    "- 붙어 있는 것 중 선택"
   ]
  },
  {
   "cell_type": "code",
   "execution_count": 1,
   "metadata": {},
   "outputs": [
    {
     "name": "stdout",
     "output_type": "stream",
     "text": [
      "8\n"
     ]
    }
   ],
   "source": [
    "n = int(input())\n",
    "store = list(map(int, input().split()))\n",
    "d = [0] * 30001\n",
    "d[0] = store[0]\n",
    "d[1] = max(store[0], store[1])\n",
    "for i in range(2, n):\n",
    "    d[i] = max(d[i-1], d[i-2]+store[i])\n",
    "\n",
    "print(d[n-1])    "
   ]
  },
  {
   "cell_type": "markdown",
   "metadata": {},
   "source": [
    "### 문제 3. 바닥 공사\n",
    "- 가로 n, 세로 2이고\n",
    "- 덮개 1x2, 2x1, 2x2"
   ]
  },
  {
   "cell_type": "code",
   "execution_count": 4,
   "metadata": {},
   "outputs": [
    {
     "name": "stdout",
     "output_type": "stream",
     "text": [
      "5\n"
     ]
    }
   ],
   "source": [
    "n = int(input())\n",
    "# a = (1,2) # 얘만 세로가 1 # 얘 2개가 c 1개 # 즉 c를 쓰는 경우를 * 2하면 됨. 각 2번이니 총 *4가 됨.\n",
    "# b = (2,1)\n",
    "# c = (2,2)\n",
    "total = (n//2) * 4 + 1 # 1은 가로 1인거만 배치하는 경우\n",
    "print(total)"
   ]
  },
  {
   "cell_type": "markdown",
   "metadata": {},
   "source": [
    "### 문제 4. 효율적인 화폐 구성\n",
    "- n가지 종류의 화폐\n",
    "- 총합 m"
   ]
  },
  {
   "cell_type": "code",
   "execution_count": 5,
   "metadata": {},
   "outputs": [
    {
     "name": "stdout",
     "output_type": "stream",
     "text": [
      "5\n"
     ]
    }
   ],
   "source": [
    "n, m = map(int, input().split())\n",
    "coin = []\n",
    "for i in range(n):\n",
    "    coin.append(int(input()))\n",
    "\n",
    "d = [10001] * (m+1)\n",
    "d[0] = 0\n",
    "for i in range(n):\n",
    "    for j in range(coin[i], m+1): \n",
    "        if d[j - coin[i]] != 10001: # 만드는 방법이 있는 경우\n",
    "            d[j] = min(d[j], d[j-coin[i]]+1)\n",
    "if d[m] == 10001:\n",
    "    print(-1)\n",
    "else:\n",
    "    print(d[m])"
   ]
  },
  {
   "cell_type": "code",
   "execution_count": null,
   "metadata": {},
   "outputs": [],
   "source": []
  }
 ],
 "metadata": {
  "kernelspec": {
   "display_name": "deeplearn",
   "language": "python",
   "name": "python3"
  },
  "language_info": {
   "codemirror_mode": {
    "name": "ipython",
    "version": 3
   },
   "file_extension": ".py",
   "mimetype": "text/x-python",
   "name": "python",
   "nbconvert_exporter": "python",
   "pygments_lexer": "ipython3",
   "version": "3.8.18"
  }
 },
 "nbformat": 4,
 "nbformat_minor": 2
}
